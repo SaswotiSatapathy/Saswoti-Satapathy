{
  "nbformat": 4,
  "nbformat_minor": 0,
  "metadata": {
    "colab": {
      "name": "Untitled0.ipynb",
      "provenance": [],
      "collapsed_sections": [],
      "authorship_tag": "ABX9TyMjFKOaDCWgV4TAWuYFxIRi",
      "include_colab_link": true
    },
    "kernelspec": {
      "name": "python3",
      "display_name": "Python 3"
    },
    "language_info": {
      "name": "python"
    }
  },
  "cells": [
    {
      "cell_type": "markdown",
      "metadata": {
        "id": "view-in-github",
        "colab_type": "text"
      },
      "source": [
        "<a href=\"https://colab.research.google.com/github/SaswotiSatapathy/Saswoti-Satapathy/blob/main/Untitled0.ipynb\" target=\"_parent\"><img src=\"https://colab.research.google.com/assets/colab-badge.svg\" alt=\"Open In Colab\"/></a>"
      ]
    },
    {
      "cell_type": "code",
      "metadata": {
        "id": "Gk8vpo7K2JV3",
        "colab": {
          "base_uri": "https://localhost:8080/"
        },
        "outputId": "94e75cc1-7f04-4be6-8128-c40533e3f3df"
      },
      "source": [
        "import numpy as np\n",
        "a=np.array([1,2,3])\n",
        "print(type(a))\n",
        "print(a)\n",
        "b=np.array([[1,2],[3,4]])\n",
        "print(b)\n",
        "print(b.shape)\n",
        "print(a.shape)\n"
      ],
      "execution_count": null,
      "outputs": [
        {
          "output_type": "stream",
          "name": "stdout",
          "text": [
            "<class 'numpy.ndarray'>\n",
            "[1 2 3]\n",
            "[[1 2]\n",
            " [3 4]]\n",
            "(2, 2)\n",
            "(3,)\n"
          ]
        }
      ]
    },
    {
      "cell_type": "code",
      "metadata": {
        "colab": {
          "base_uri": "https://localhost:8080/"
        },
        "id": "Bv5nvsej4GX2",
        "outputId": "5ddebe5c-7b40-4ece-f5c5-0b4c99e4293e"
      },
      "source": [
        "import numpy as np\n",
        "a=np.arange(20)\n",
        "print(a)\n",
        "print(a[1:7:2])\n",
        "print(a[5:15:3])\n",
        "print(a[-1:5:-1])"
      ],
      "execution_count": null,
      "outputs": [
        {
          "output_type": "stream",
          "name": "stdout",
          "text": [
            "[ 0  1  2  3  4  5  6  7  8  9 10 11 12 13 14 15 16 17 18 19]\n",
            "[1 3 5]\n",
            "[ 5  8 11 14]\n",
            "[19 18 17 16 15 14 13 12 11 10  9  8  7  6]\n"
          ]
        }
      ]
    },
    {
      "cell_type": "code",
      "metadata": {
        "colab": {
          "base_uri": "https://localhost:8080/"
        },
        "id": "a4IzCsiS47ut",
        "outputId": "10d9e1ca-6941-486f-f690-f93c562e738a"
      },
      "source": [
        "import numpy as np\n",
        "a=np.array([[12,11],[9,7],[5,13]])\n",
        "b=np.random.random((3,2))\n",
        "print(a+b)\n",
        "print(a-b)\n",
        "print(a.shape)\n",
        "print(a>10)\n",
        "print(b)"
      ],
      "execution_count": null,
      "outputs": [
        {
          "output_type": "stream",
          "name": "stdout",
          "text": [
            "[[12.6772986  11.68344347]\n",
            " [ 9.15411611  7.42240934]\n",
            " [ 5.07729318 13.4146759 ]]\n",
            "[[11.3227014  10.31655653]\n",
            " [ 8.84588389  6.57759066]\n",
            " [ 4.92270682 12.5853241 ]]\n",
            "(3, 2)\n",
            "[[ True  True]\n",
            " [False False]\n",
            " [False  True]]\n",
            "[[0.6772986  0.68344347]\n",
            " [0.15411611 0.42240934]\n",
            " [0.07729318 0.4146759 ]]\n"
          ]
        }
      ]
    },
    {
      "cell_type": "code",
      "metadata": {
        "colab": {
          "base_uri": "https://localhost:8080/"
        },
        "id": "FAYXz_si8Cq_",
        "outputId": "94e96d05-78e1-4161-e5bc-cb9174b0aa43"
      },
      "source": [
        "import numpy as np\n",
        "a=np.array([[12,11],[9,7]])\n",
        "print(a)\n",
        "print(a.T)"
      ],
      "execution_count": null,
      "outputs": [
        {
          "output_type": "stream",
          "name": "stdout",
          "text": [
            "[[12 11]\n",
            " [ 9  7]]\n",
            "[[12  9]\n",
            " [11  7]]\n"
          ]
        }
      ]
    },
    {
      "cell_type": "code",
      "metadata": {
        "colab": {
          "base_uri": "https://localhost:8080/"
        },
        "id": "PtoMMPQ6-1B3",
        "outputId": "1ae8439c-c227-440b-f84e-6bd93e151bbd"
      },
      "source": [
        "import numpy as np\n",
        "a=np.array([[12,11,15],[9,7,3]])\n",
        "print(a)\n",
        "w=np.array([1.0,1.1,1.2])\n",
        "print(w)\n",
        "print(a+w)"
      ],
      "execution_count": null,
      "outputs": [
        {
          "output_type": "stream",
          "name": "stdout",
          "text": [
            "[[12 11 15]\n",
            " [ 9  7  3]]\n",
            "[1.  1.1 1.2]\n",
            "[[13.  12.1 16.2]\n",
            " [10.   8.1  4.2]]\n"
          ]
        }
      ]
    },
    {
      "cell_type": "code",
      "metadata": {
        "id": "NFqK2YJmABIo"
      },
      "source": [
        ""
      ],
      "execution_count": null,
      "outputs": []
    }
  ]
}